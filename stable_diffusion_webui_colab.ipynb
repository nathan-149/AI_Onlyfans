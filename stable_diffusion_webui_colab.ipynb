{
  "cells": [
    {
      "cell_type": "code",
      "source": [
        "# Mostly based on https://github.com/wibus-wee 's work.\n",
        "\n",
        "checkpoint = 'chilloutmix.safetensors' #@param [\"chilloutmix.safetensors\", \"sunshinemix.safetensors\", \"grapefruitHentaiModel.safetensors\"]\n",
        "\n",
        "downloadLink = {\n",
        "    'chilloutmix.safetensors': 'https://civitai.com/api/download/models/11745',\n",
        "    'sunshinemix.safetensors': 'https://civitai.com/api/download/models/11752',\n",
        "    'grapefruitHentaiModel.safetensors': 'https://civitai.com/api/download/models/9000'\n",
        "}[checkpoint]\n",
        "\n",
        "loraLinks = dict((\n",
        "    ('koreanDollLikeness_v15.safetensors', 'https://github.com/nathan-149/AI_Onlyfans/raw/main/koreanDollLikeness_v15.safetensors'),\n",
        "    ('taiwanDollLikeness_v10.safetensors', 'https://github.com/nathan-149/AI_Onlyfans/raw/main/taiwanDollLikeness_v10.safetensors'),\n",
        "    ('chilloutmixss_xss10.safetensors', 'https://github.com/nathan-149/AI_Onlyfans/raw/main/chilloutmixss_xss10.safetensors'),\n",
        "))\n",
        "\n",
        "print(\"已选择模型: \" + checkpoint + \" <===> \" + downloadLink)\n",
        "\n",
        "%store checkpoint\n",
        "%store downloadLink\n",
        "%store loraLinks"
      ],
      "metadata": {
        "id": "6-kIZKEPLP0F"
      },
      "execution_count": null,
      "outputs": []
    },
    {
      "cell_type": "code",
      "execution_count": null,
      "metadata": {
        "id": "SaAJk33ppFw1"
      },
      "outputs": [],
      "source": [
        "import os\n",
        "from google.colab.output import eval_js\n",
        "os.environ['colab_url'] = eval_js(\"google.colab.kernel.proxyPort(7860, {'cache': false})\")\n",
        "\n",
        "!apt -y update -qq\n",
        "!wget http://launchpadlibrarian.net/367274644/libgoogle-perftools-dev_2.5-2.2ubuntu3_amd64.deb\n",
        "!wget https://launchpad.net/ubuntu/+source/google-perftools/2.5-2.2ubuntu3/+build/14795286/+files/google-perftools_2.5-2.2ubuntu3_all.deb\n",
        "!wget https://launchpad.net/ubuntu/+source/google-perftools/2.5-2.2ubuntu3/+build/14795286/+files/libtcmalloc-minimal4_2.5-2.2ubuntu3_amd64.deb\n",
        "!wget https://launchpad.net/ubuntu/+source/google-perftools/2.5-2.2ubuntu3/+build/14795286/+files/libgoogle-perftools4_2.5-2.2ubuntu3_amd64.deb\n",
        "!apt install -qq libunwind8-dev\n",
        "!dpkg -i *.deb\n",
        "%env LD_PRELOAD=libtcmalloc.so\n",
        "!rm *.deb\n",
        "\n",
        "!apt -y install -qq aria2\n",
        "!pip install -q --pre triton\n",
        "\n",
        "!git clone -b v1.6 https://github.com/camenduru/stable-diffusion-webui\n",
        "!wget https://raw.githubusercontent.com/camenduru/stable-diffusion-webui-scripts/main/run_n_times.py -O /content/stable-diffusion-webui/scripts/run_n_times.py\n",
        "!git clone -b v1.6 https://github.com/camenduru/deforum-for-automatic1111-webui /content/stable-diffusion-webui/extensions/deforum-for-automatic1111-webui\n",
        "!git clone -b v1.6 https://github.com/camenduru/stable-diffusion-webui-images-browser /content/stable-diffusion-webui/extensions/stable-diffusion-webui-images-browser\n",
        "!git clone -b v1.6 https://github.com/camenduru/stable-diffusion-webui-huggingface /content/stable-diffusion-webui/extensions/stable-diffusion-webui-huggingface\n",
        "!git clone -b v1.6 https://github.com/camenduru/sd-civitai-browser /content/stable-diffusion-webui/extensions/sd-civitai-browser\n",
        "!git clone -b v1.6 https://github.com/camenduru/sd-webui-additional-networks /content/stable-diffusion-webui/extensions/sd-webui-additional-networks\n",
        "!git clone -b v1.6 https://github.com/camenduru/sd-webui-tunnels /content/stable-diffusion-webui/extensions/sd-webui-tunnels\n",
        "%cd /content/stable-diffusion-webui\n",
        "!git reset --hard\n",
        "\n",
        "!aria2c --console-log-level=error -c -x 16 -s 16 -k 1M https://huggingface.co/ckpt/sd14/resolve/main/sd-v1-4.ckpt -d /content/stable-diffusion-webui/models/Stable-diffusion -o sd-v1-4.ckpt\n",
        "\n",
        "!sed -i -e '''/    prepare_environment()/a\\    os.system\\(f\\\"\"\"sed -i -e ''\\\"s/self.logvar\\\\[t\\\\]/self.logvar\\\\[t.item()\\\\]/g\\\"'' /content/stable-diffusion-webui/repositories/stable-diffusion-stability-ai/ldm/models/diffusion/ddpm.py\"\"\")''' /content/stable-diffusion-webui/launch.py\n",
        "!sed -i -e '''/    prepare_environment()/a\\    os.system\\(f\\\"\"\"sed -i -e ''\\\"s/dict()))/dict())).cuda()/g\\\"'' /content/stable-diffusion-webui/repositories/stable-diffusion-stability-ai/ldm/util.py\"\"\")''' /content/stable-diffusion-webui/launch.py\n",
        "!sed -i '$a fastapi==0.90.0' requirements_versions.txt\n",
        "!sed -i -e 's/default_enabled=False/default_enabled=True/' /content/stable-diffusion-webui/webui.py\n",
        "\n",
        "%store -r checkpoint \n",
        "!wget -c {downloadLink} -P ./models/Stable-diffusion -O ./models/Stable-diffusion/{checkpoint}\n",
        "\n",
        "for lora, link in loraLinks.items():\n",
        "    print('\\nKey: %s' % lora)\n",
        "    print('Value: %s' % link)\n",
        "    !wget -c {link} -P ./models/Stable-diffusion -O ./extensions/sd-webui-additional-networks/models/lora/{lora}\n",
        "\n",
        "!python launch.py --share --enable-insecure-extension-access --theme dark --cloudflared"
      ]
    },
    {
      "cell_type": "code",
      "source": [],
      "metadata": {
        "id": "EOC91OjGM9_o"
      },
      "execution_count": null,
      "outputs": []
    }
  ],
  "metadata": {
    "accelerator": "GPU",
    "colab": {
      "private_outputs": true,
      "provenance": [],
      "machine_shape": "hm"
    },
    "gpuClass": "standard",
    "kernelspec": {
      "display_name": "Python 3",
      "name": "python3"
    },
    "language_info": {
      "name": "python"
    }
  },
  "nbformat": 4,
  "nbformat_minor": 0
}